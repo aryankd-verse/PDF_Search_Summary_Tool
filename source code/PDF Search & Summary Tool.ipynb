{
 "cells": [
  {
   "cell_type": "code",
   "execution_count": 5,
   "id": "1d29d042-a1a4-4827-ba83-a890c0ab117d",
   "metadata": {},
   "outputs": [
    {
     "name": "stdout",
     "output_type": "stream",
     "text": [
      "Requirement already satisfied: pdfplumber in c:\\users\\aryan\\appdata\\local\\programs\\python\\python310\\lib\\site-packages (0.11.7)\n",
      "Requirement already satisfied: pandas in c:\\users\\aryan\\appdata\\local\\programs\\python\\python310\\lib\\site-packages (2.3.1)\n",
      "Requirement already satisfied: PyMuPDF in c:\\users\\aryan\\appdata\\local\\programs\\python\\python310\\lib\\site-packages (1.26.3)\n",
      "Requirement already satisfied: nltk in c:\\users\\aryan\\appdata\\local\\programs\\python\\python310\\lib\\site-packages (3.9.1)\n",
      "Requirement already satisfied: pdfminer.six==20250506 in c:\\users\\aryan\\appdata\\local\\programs\\python\\python310\\lib\\site-packages (from pdfplumber) (20250506)\n",
      "Requirement already satisfied: Pillow>=9.1 in c:\\users\\aryan\\appdata\\local\\programs\\python\\python310\\lib\\site-packages (from pdfplumber) (11.3.0)\n",
      "Requirement already satisfied: pypdfium2>=4.18.0 in c:\\users\\aryan\\appdata\\local\\programs\\python\\python310\\lib\\site-packages (from pdfplumber) (4.30.0)\n",
      "Requirement already satisfied: charset-normalizer>=2.0.0 in c:\\users\\aryan\\appdata\\local\\programs\\python\\python310\\lib\\site-packages (from pdfminer.six==20250506->pdfplumber) (3.4.2)\n",
      "Requirement already satisfied: cryptography>=36.0.0 in c:\\users\\aryan\\appdata\\local\\programs\\python\\python310\\lib\\site-packages (from pdfminer.six==20250506->pdfplumber) (45.0.5)\n",
      "Requirement already satisfied: numpy>=1.22.4 in c:\\users\\aryan\\appdata\\local\\programs\\python\\python310\\lib\\site-packages (from pandas) (2.2.6)\n",
      "Requirement already satisfied: python-dateutil>=2.8.2 in c:\\users\\aryan\\appdata\\local\\programs\\python\\python310\\lib\\site-packages (from pandas) (2.9.0.post0)\n",
      "Requirement already satisfied: pytz>=2020.1 in c:\\users\\aryan\\appdata\\local\\programs\\python\\python310\\lib\\site-packages (from pandas) (2025.2)\n",
      "Requirement already satisfied: tzdata>=2022.7 in c:\\users\\aryan\\appdata\\local\\programs\\python\\python310\\lib\\site-packages (from pandas) (2025.2)\n",
      "Requirement already satisfied: click in c:\\users\\aryan\\appdata\\local\\programs\\python\\python310\\lib\\site-packages (from nltk) (8.2.1)\n",
      "Requirement already satisfied: joblib in c:\\users\\aryan\\appdata\\local\\programs\\python\\python310\\lib\\site-packages (from nltk) (1.5.1)\n",
      "Requirement already satisfied: regex>=2021.8.3 in c:\\users\\aryan\\appdata\\local\\programs\\python\\python310\\lib\\site-packages (from nltk) (2025.7.34)\n",
      "Requirement already satisfied: tqdm in c:\\users\\aryan\\appdata\\local\\programs\\python\\python310\\lib\\site-packages (from nltk) (4.67.1)\n",
      "Requirement already satisfied: cffi>=1.14 in c:\\users\\aryan\\appdata\\local\\programs\\python\\python310\\lib\\site-packages (from cryptography>=36.0.0->pdfminer.six==20250506->pdfplumber) (1.17.1)\n",
      "Requirement already satisfied: pycparser in c:\\users\\aryan\\appdata\\local\\programs\\python\\python310\\lib\\site-packages (from cffi>=1.14->cryptography>=36.0.0->pdfminer.six==20250506->pdfplumber) (2.22)\n",
      "Requirement already satisfied: six>=1.5 in c:\\users\\aryan\\appdata\\local\\programs\\python\\python310\\lib\\site-packages (from python-dateutil>=2.8.2->pandas) (1.17.0)\n",
      "Requirement already satisfied: colorama in c:\\users\\aryan\\appdata\\local\\programs\\python\\python310\\lib\\site-packages (from click->nltk) (0.4.6)\n"
     ]
    }
   ],
   "source": [
    "!pip install pdfplumber pandas PyMuPDF nltk\n"
   ]
  },
  {
   "cell_type": "code",
   "execution_count": 6,
   "id": "9e1a96e3-e6c5-4f0f-bd70-04a2c9d0700a",
   "metadata": {},
   "outputs": [
    {
     "name": "stdout",
     "output_type": "stream",
     "text": [
      "Requirement already satisfied: pip in c:\\users\\aryan\\appdata\\local\\programs\\python\\python310\\lib\\site-packages (25.2)\n"
     ]
    }
   ],
   "source": [
    "!python -m pip install --upgrade pip\n"
   ]
  },
  {
   "cell_type": "code",
   "execution_count": 7,
   "id": "98e85edc-5450-4011-b9cb-37d22799ecff",
   "metadata": {},
   "outputs": [
    {
     "name": "stderr",
     "output_type": "stream",
     "text": [
      "[nltk_data] Downloading package punkt to\n",
      "[nltk_data]     C:\\Users\\ARYAN\\AppData\\Roaming\\nltk_data...\n",
      "[nltk_data]   Package punkt is already up-to-date!\n",
      "[nltk_data] Downloading package punkt_tab to\n",
      "[nltk_data]     C:\\Users\\ARYAN\\AppData\\Roaming\\nltk_data...\n",
      "[nltk_data]   Package punkt_tab is already up-to-date!\n"
     ]
    }
   ],
   "source": [
    "import os\n",
    "import pdfplumber\n",
    "import pandas as pd\n",
    "import fitz  # PyMuPDF for highlighting\n",
    "import nltk\n",
    "from nltk.tokenize import sent_tokenize\n",
    "nltk.download('punkt')\n",
    "nltk.download('punkt_tab') \n",
    "import warnings\n",
    "warnings.filterwarnings(\"ignore\") \n"
   ]
  },
  {
   "cell_type": "code",
   "execution_count": 8,
   "id": "0eaf5bb3-cab5-4180-a26a-4c38cfcb2c26",
   "metadata": {},
   "outputs": [],
   "source": [
    "folder_path = \"C:\\\\Users\\\\ARYAN\\\\Documents\\\\PDF_Search_Summary_Project\\\\pdfs\""
   ]
  },
  {
   "cell_type": "code",
   "execution_count": 9,
   "id": "a63e3a10-046f-4494-9c61-2aea217f2425",
   "metadata": {},
   "outputs": [
    {
     "name": "stdout",
     "output_type": "stream",
     "text": [
      " Found PDF files:\n",
      "- CS-101-1.3.1_History-of-Java-Programming-Language.pdf\n",
      "- interface and abstract class.pdf\n",
      "- OLevel_2_B4_CLang_26Mar_SS.pdf\n"
     ]
    }
   ],
   "source": [
    "pdf_files = [f for f in os.listdir(folder_path) if f.lower().endswith(\".pdf\")]\n",
    "print(\" Found PDF files:\")\n",
    "for file in pdf_files:\n",
    "    print(\"-\", file)"
   ]
  },
  {
   "cell_type": "code",
   "execution_count": 10,
   "id": "5c40e878-ea58-4a58-acf0-06de888a7c08",
   "metadata": {},
   "outputs": [
    {
     "name": "stdin",
     "output_type": "stream",
     "text": [
      "Enter keywords :  java,programming,history\n"
     ]
    },
    {
     "name": "stdout",
     "output_type": "stream",
     "text": [
      "['java', 'programming', 'history']\n"
     ]
    }
   ],
   "source": [
    "search_input = input(\"Enter keywords : \")\n",
    "search_terms = [term.strip().lower() for term in search_input.split(\",\") if term.strip()]\n",
    "print(search_terms)\n"
   ]
  },
  {
   "cell_type": "code",
   "execution_count": 11,
   "id": "d02dd7cb-bcdf-4f65-b42f-d6ddc804e6ae",
   "metadata": {},
   "outputs": [
    {
     "name": "stderr",
     "output_type": "stream",
     "text": [
      "Cannot set gray non-stroke color because /'Pattern1' is an invalid float value\n"
     ]
    }
   ],
   "source": [
    "\n",
    "results = []\n",
    "keyword_counts = {}\n",
    "\n",
    "for file in pdf_files:\n",
    "    file_path = os.path.join(folder_path, file)\n",
    "    with pdfplumber.open(file_path) as pdf:\n",
    "        for i in range(len(pdf.pages)):\n",
    "            page = pdf.pages[i]\n",
    "            text = page.extract_text()\n",
    "\n",
    "            if text:\n",
    "                sentences = sent_tokenize(text)\n",
    "                for sentence in sentences:\n",
    "                    lowered = sentence.lower()\n",
    "                    matched_terms = [term for term in search_terms if term in lowered]\n",
    "                    for term in matched_terms:\n",
    "                        results.append({\n",
    "                            \"Filename\": file,\n",
    "                            \"Page\": i + 1,\n",
    "                            \"Keyword\": term,\n",
    "                            \"Sentence\": sentence.strip()\n",
    "                        })\n",
    "                        keyword_counts[term] = keyword_counts.get(term, 0) + lowered.count(term)\n"
   ]
  },
  {
   "cell_type": "code",
   "execution_count": 12,
   "id": "a5a9562c-63b5-4b71-82a4-99e373ae05a9",
   "metadata": {},
   "outputs": [
    {
     "data": {
      "text/html": [
       "<div>\n",
       "<style scoped>\n",
       "    .dataframe tbody tr th:only-of-type {\n",
       "        vertical-align: middle;\n",
       "    }\n",
       "\n",
       "    .dataframe tbody tr th {\n",
       "        vertical-align: top;\n",
       "    }\n",
       "\n",
       "    .dataframe thead th {\n",
       "        text-align: right;\n",
       "    }\n",
       "</style>\n",
       "<table border=\"1\" class=\"dataframe\">\n",
       "  <thead>\n",
       "    <tr style=\"text-align: right;\">\n",
       "      <th></th>\n",
       "      <th>Filename</th>\n",
       "      <th>Page</th>\n",
       "      <th>Keyword</th>\n",
       "      <th>Sentence</th>\n",
       "    </tr>\n",
       "  </thead>\n",
       "  <tbody>\n",
       "    <tr>\n",
       "      <th>0</th>\n",
       "      <td>CS-101-1.3.1_History-of-Java-Programming-Langu...</td>\n",
       "      <td>1</td>\n",
       "      <td>java</td>\n",
       "      <td>“History of Java Programming Language”\\nFree J...</td>\n",
       "    </tr>\n",
       "    <tr>\n",
       "      <th>1</th>\n",
       "      <td>CS-101-1.3.1_History-of-Java-Programming-Langu...</td>\n",
       "      <td>1</td>\n",
       "      <td>programming</td>\n",
       "      <td>“History of Java Programming Language”\\nFree J...</td>\n",
       "    </tr>\n",
       "    <tr>\n",
       "      <th>2</th>\n",
       "      <td>CS-101-1.3.1_History-of-Java-Programming-Langu...</td>\n",
       "      <td>1</td>\n",
       "      <td>history</td>\n",
       "      <td>“History of Java Programming Language”\\nFree J...</td>\n",
       "    </tr>\n",
       "    <tr>\n",
       "      <th>3</th>\n",
       "      <td>CS-101-1.3.1_History-of-Java-Programming-Langu...</td>\n",
       "      <td>1</td>\n",
       "      <td>java</td>\n",
       "      <td>Unlike conventional languages\\nwhich are gener...</td>\n",
       "    </tr>\n",
       "    <tr>\n",
       "      <th>4</th>\n",
       "      <td>CS-101-1.3.1_History-of-Java-Programming-Langu...</td>\n",
       "      <td>1</td>\n",
       "      <td>java</td>\n",
       "      <td>Java is only distantly related to JavaScript, ...</td>\n",
       "    </tr>\n",
       "    <tr>\n",
       "      <th>5</th>\n",
       "      <td>CS-101-1.3.1_History-of-Java-Programming-Langu...</td>\n",
       "      <td>1</td>\n",
       "      <td>java</td>\n",
       "      <td>History\\nJava was started as a project called ...</td>\n",
       "    </tr>\n",
       "    <tr>\n",
       "      <th>6</th>\n",
       "      <td>CS-101-1.3.1_History-of-Java-Programming-Langu...</td>\n",
       "      <td>1</td>\n",
       "      <td>history</td>\n",
       "      <td>History\\nJava was started as a project called ...</td>\n",
       "    </tr>\n",
       "    <tr>\n",
       "      <th>7</th>\n",
       "      <td>CS-101-1.3.1_History-of-Java-Programming-Langu...</td>\n",
       "      <td>1</td>\n",
       "      <td>java</td>\n",
       "      <td>The first public\\nimplementation was Java 1.0 ...</td>\n",
       "    </tr>\n",
       "    <tr>\n",
       "      <th>8</th>\n",
       "      <td>CS-101-1.3.1_History-of-Java-Programming-Langu...</td>\n",
       "      <td>1</td>\n",
       "      <td>java</td>\n",
       "      <td>New versions for large and small platforms (J2...</td>\n",
       "    </tr>\n",
       "    <tr>\n",
       "      <th>9</th>\n",
       "      <td>CS-101-1.3.1_History-of-Java-Programming-Langu...</td>\n",
       "      <td>1</td>\n",
       "      <td>java</td>\n",
       "      <td>Sun has not announced any\\nplans for a \"Java 3\".</td>\n",
       "    </tr>\n",
       "  </tbody>\n",
       "</table>\n",
       "</div>"
      ],
      "text/plain": [
       "                                            Filename  Page      Keyword  \\\n",
       "0  CS-101-1.3.1_History-of-Java-Programming-Langu...     1         java   \n",
       "1  CS-101-1.3.1_History-of-Java-Programming-Langu...     1  programming   \n",
       "2  CS-101-1.3.1_History-of-Java-Programming-Langu...     1      history   \n",
       "3  CS-101-1.3.1_History-of-Java-Programming-Langu...     1         java   \n",
       "4  CS-101-1.3.1_History-of-Java-Programming-Langu...     1         java   \n",
       "5  CS-101-1.3.1_History-of-Java-Programming-Langu...     1         java   \n",
       "6  CS-101-1.3.1_History-of-Java-Programming-Langu...     1      history   \n",
       "7  CS-101-1.3.1_History-of-Java-Programming-Langu...     1         java   \n",
       "8  CS-101-1.3.1_History-of-Java-Programming-Langu...     1         java   \n",
       "9  CS-101-1.3.1_History-of-Java-Programming-Langu...     1         java   \n",
       "\n",
       "                                            Sentence  \n",
       "0  “History of Java Programming Language”\\nFree J...  \n",
       "1  “History of Java Programming Language”\\nFree J...  \n",
       "2  “History of Java Programming Language”\\nFree J...  \n",
       "3  Unlike conventional languages\\nwhich are gener...  \n",
       "4  Java is only distantly related to JavaScript, ...  \n",
       "5  History\\nJava was started as a project called ...  \n",
       "6  History\\nJava was started as a project called ...  \n",
       "7  The first public\\nimplementation was Java 1.0 ...  \n",
       "8  New versions for large and small platforms (J2...  \n",
       "9   Sun has not announced any\\nplans for a \"Java 3\".  "
      ]
     },
     "execution_count": 12,
     "metadata": {},
     "output_type": "execute_result"
    }
   ],
   "source": [
    "df = pd.DataFrame(results)\n",
    "df.head(10)\n",
    "\n"
   ]
  },
  {
   "cell_type": "code",
   "execution_count": 17,
   "id": "a9d366a7-3f9e-4e0d-92a5-4de3f6145e12",
   "metadata": {},
   "outputs": [
    {
     "name": "stdout",
     "output_type": "stream",
     "text": [
      " Search results saved to 'search_results.csv'\n"
     ]
    }
   ],
   "source": [
    "df.to_csv(\"search_results.csv\", index=False)\n",
    "print(\" Search results saved to 'search_results.csv'\")\n"
   ]
  },
  {
   "cell_type": "code",
   "execution_count": 15,
   "id": "5613e6f0-ccdd-497c-ad14-efb1a595a728",
   "metadata": {},
   "outputs": [
    {
     "data": {
      "text/html": [
       "<div>\n",
       "<style scoped>\n",
       "    .dataframe tbody tr th:only-of-type {\n",
       "        vertical-align: middle;\n",
       "    }\n",
       "\n",
       "    .dataframe tbody tr th {\n",
       "        vertical-align: top;\n",
       "    }\n",
       "\n",
       "    .dataframe thead th {\n",
       "        text-align: right;\n",
       "    }\n",
       "</style>\n",
       "<table border=\"1\" class=\"dataframe\">\n",
       "  <thead>\n",
       "    <tr style=\"text-align: right;\">\n",
       "      <th></th>\n",
       "      <th>Keyword</th>\n",
       "      <th>Count</th>\n",
       "    </tr>\n",
       "  </thead>\n",
       "  <tbody>\n",
       "    <tr>\n",
       "      <th>0</th>\n",
       "      <td>java</td>\n",
       "      <td>108</td>\n",
       "    </tr>\n",
       "    <tr>\n",
       "      <th>1</th>\n",
       "      <td>programming</td>\n",
       "      <td>21</td>\n",
       "    </tr>\n",
       "    <tr>\n",
       "      <th>2</th>\n",
       "      <td>history</td>\n",
       "      <td>10</td>\n",
       "    </tr>\n",
       "  </tbody>\n",
       "</table>\n",
       "</div>"
      ],
      "text/plain": [
       "       Keyword  Count\n",
       "0         java    108\n",
       "1  programming     21\n",
       "2      history     10"
      ]
     },
     "execution_count": 15,
     "metadata": {},
     "output_type": "execute_result"
    }
   ],
   "source": [
    "count_df = pd.DataFrame(list(keyword_counts.items()), columns=[\"Keyword\", \"Count\"])\n",
    "count_df.to_csv(\"keyword_counts.csv\", index=False)\n",
    "count_df.head()\n"
   ]
  },
  {
   "cell_type": "code",
   "execution_count": 16,
   "id": "50daa95e-e14e-4fde-b6b1-1f9e987fc64e",
   "metadata": {},
   "outputs": [
    {
     "name": "stdout",
     "output_type": "stream",
     "text": [
      "Highlighted PDFs saved in 'highlighted_pdfs' folder\n"
     ]
    }
   ],
   "source": [
    "highlighted_folder = \"highlighted_pdfs\"\n",
    "os.makedirs(highlighted_folder, exist_ok=True)\n",
    "\n",
    "for file in pdf_files:\n",
    "    file_path = os.path.join(folder_path, file)\n",
    "    doc = fitz.open(file_path)\n",
    "\n",
    "    for page in doc:\n",
    "        for term in search_terms:\n",
    "            matches = page.search_for(term)\n",
    "            for match in matches:\n",
    "                try:\n",
    "                    page.add_highlight_annot(match)\n",
    "                except:\n",
    "                    pass  # Skip problematic highlight\n",
    "\n",
    "    output_path = os.path.join(highlighted_folder, f\"highlighted_{file}\")\n",
    "    doc.save(output_path)\n",
    "    doc.close()\n",
    "\n",
    "print(\"Highlighted PDFs saved in 'highlighted_pdfs' folder\")"
   ]
  },
  {
   "cell_type": "code",
   "execution_count": null,
   "id": "4b20268e-b71f-4e56-a572-87aa36ad3c4d",
   "metadata": {},
   "outputs": [],
   "source": []
  }
 ],
 "metadata": {
  "kernelspec": {
   "display_name": "Python 3 (ipykernel)",
   "language": "python",
   "name": "python3"
  },
  "language_info": {
   "codemirror_mode": {
    "name": "ipython",
    "version": 3
   },
   "file_extension": ".py",
   "mimetype": "text/x-python",
   "name": "python",
   "nbconvert_exporter": "python",
   "pygments_lexer": "ipython3",
   "version": "3.10.11"
  }
 },
 "nbformat": 4,
 "nbformat_minor": 5
}
